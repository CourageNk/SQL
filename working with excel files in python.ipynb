{
 "cells": [
  {
   "cell_type": "code",
   "execution_count": 3,
   "id": "a5c3feca-125b-43b4-b618-64652a35e30a",
   "metadata": {},
   "outputs": [],
   "source": [
    "import csv\n",
    "import pprint"
   ]
  },
  {
   "cell_type": "code",
   "execution_count": 4,
   "id": "c438c25e-e71d-4348-8446-ec0be5c1b1c5",
   "metadata": {},
   "outputs": [],
   "source": [
    "def OpenFile(file):\n",
    "    with open(file, \"r\") as f:\n",
    "        r = csv.reader(f, delimiter= \",\")\n",
    "        for row in r:\n",
    "            return row"
   ]
  },
  {
   "cell_type": "code",
   "execution_count": 5,
   "id": "88b5fa91-18fe-4afd-b082-39acef56f110",
   "metadata": {},
   "outputs": [
    {
     "data": {
      "text/plain": [
       "['Competitor ID',\n",
       " 'Campaign ID',\n",
       " 'Ad Spend',\n",
       " 'Impressions',\n",
       " 'Clicks',\n",
       " 'Conversions',\n",
       " 'Sales',\n",
       " 'Campaign Start Date',\n",
       " 'Campaign End Date']"
      ]
     },
     "execution_count": 5,
     "metadata": {},
     "output_type": "execute_result"
    }
   ],
   "source": [
    "OpenFile(\"competitor_campaigns.csv\")"
   ]
  },
  {
   "cell_type": "code",
   "execution_count": 6,
   "id": "9bffe0c3-f20d-4c32-8a5a-71260089b629",
   "metadata": {},
   "outputs": [],
   "source": [
    "l = []\n",
    "def ReadData(file):\n",
    "    with open(file, \"r\") as fb:\n",
    "        r = csv.DictReader(fb)\n",
    "        for i in fb:\n",
    "            l.append(i)\n",
    "            return l"
   ]
  },
  {
   "cell_type": "code",
   "execution_count": 7,
   "id": "85f4ce1e-4c24-4644-ae33-c7b3b3100e16",
   "metadata": {},
   "outputs": [],
   "source": [
    "df = ReadData(\"competitor_campaigns.csv\")"
   ]
  },
  {
   "cell_type": "code",
   "execution_count": 8,
   "id": "239c14e1-659f-46b3-9d14-5970478a865b",
   "metadata": {},
   "outputs": [
    {
     "data": {
      "text/plain": [
       "'Competitor ID,Campaign ID,Ad Spend,Impressions,Clicks,Conversions,Sales,Campaign Start Date,Campaign End Date\\n'"
      ]
     },
     "execution_count": 8,
     "metadata": {},
     "output_type": "execute_result"
    }
   ],
   "source": [
    "df[0]"
   ]
  },
  {
   "cell_type": "code",
   "execution_count": 9,
   "id": "4a8f3ab4-2a54-44f1-90dd-76ac686eb746",
   "metadata": {},
   "outputs": [],
   "source": [
    "import pandas as pd\n",
    "import numpy as np\n",
    "import matplotlib.pyplot as plt\n",
    "import seaborn as sb\n",
    "import plotly.express as px"
   ]
  },
  {
   "cell_type": "code",
   "execution_count": 10,
   "id": "4d3f047c-576e-41bf-a7ea-0a6e132fafc5",
   "metadata": {},
   "outputs": [
    {
     "data": {
      "text/html": [
       "<div>\n",
       "<style scoped>\n",
       "    .dataframe tbody tr th:only-of-type {\n",
       "        vertical-align: middle;\n",
       "    }\n",
       "\n",
       "    .dataframe tbody tr th {\n",
       "        vertical-align: top;\n",
       "    }\n",
       "\n",
       "    .dataframe thead th {\n",
       "        text-align: right;\n",
       "    }\n",
       "</style>\n",
       "<table border=\"1\" class=\"dataframe\">\n",
       "  <thead>\n",
       "    <tr style=\"text-align: right;\">\n",
       "      <th></th>\n",
       "      <th>Date</th>\n",
       "      <th>Channel</th>\n",
       "      <th>Customer</th>\n",
       "      <th>Category</th>\n",
       "      <th>Product</th>\n",
       "      <th>Sales PCS</th>\n",
       "      <th>Sales Amount</th>\n",
       "      <th>Profit Margin</th>\n",
       "      <th>Date/Text</th>\n",
       "      <th>Day</th>\n",
       "    </tr>\n",
       "  </thead>\n",
       "  <tbody>\n",
       "    <tr>\n",
       "      <th>0</th>\n",
       "      <td>2020-01-15</td>\n",
       "      <td>Big Dealer</td>\n",
       "      <td>DISCOVERY</td>\n",
       "      <td>FAN</td>\n",
       "      <td>CFA00</td>\n",
       "      <td>50</td>\n",
       "      <td>36000</td>\n",
       "      <td>0.245860</td>\n",
       "      <td>15/01/2020</td>\n",
       "      <td>15</td>\n",
       "    </tr>\n",
       "    <tr>\n",
       "      <th>1</th>\n",
       "      <td>2020-01-13</td>\n",
       "      <td>Big Dealer</td>\n",
       "      <td>CLD</td>\n",
       "      <td>Emergency lights</td>\n",
       "      <td>EL009</td>\n",
       "      <td>100</td>\n",
       "      <td>88000</td>\n",
       "      <td>0.050950</td>\n",
       "      <td>13/01/2020</td>\n",
       "      <td>13</td>\n",
       "    </tr>\n",
       "    <tr>\n",
       "      <th>2</th>\n",
       "      <td>2020-01-13</td>\n",
       "      <td>Big Dealer</td>\n",
       "      <td>PHIL</td>\n",
       "      <td>FAN</td>\n",
       "      <td>CF087</td>\n",
       "      <td>50</td>\n",
       "      <td>204000</td>\n",
       "      <td>0.357727</td>\n",
       "      <td>13/01/2020</td>\n",
       "      <td>13</td>\n",
       "    </tr>\n",
       "    <tr>\n",
       "      <th>3</th>\n",
       "      <td>2020-01-13</td>\n",
       "      <td>Big Dealer</td>\n",
       "      <td>CLD</td>\n",
       "      <td>flashlight</td>\n",
       "      <td>TH258</td>\n",
       "      <td>20</td>\n",
       "      <td>50000</td>\n",
       "      <td>0.112817</td>\n",
       "      <td>13/01/2020</td>\n",
       "      <td>13</td>\n",
       "    </tr>\n",
       "    <tr>\n",
       "      <th>4</th>\n",
       "      <td>2020-01-13</td>\n",
       "      <td>Big Dealer</td>\n",
       "      <td>CLD</td>\n",
       "      <td>Camping lanterns</td>\n",
       "      <td>OL090</td>\n",
       "      <td>500</td>\n",
       "      <td>47000</td>\n",
       "      <td>0.177313</td>\n",
       "      <td>13/01/2020</td>\n",
       "      <td>13</td>\n",
       "    </tr>\n",
       "  </tbody>\n",
       "</table>\n",
       "</div>"
      ],
      "text/plain": [
       "        Date     Channel   Customer          Category Product  Sales PCS  \\\n",
       "0 2020-01-15  Big Dealer  DISCOVERY               FAN   CFA00         50   \n",
       "1 2020-01-13  Big Dealer        CLD  Emergency lights   EL009        100   \n",
       "2 2020-01-13  Big Dealer       PHIL               FAN   CF087         50   \n",
       "3 2020-01-13  Big Dealer        CLD        flashlight   TH258         20   \n",
       "4 2020-01-13  Big Dealer        CLD  Camping lanterns   OL090        500   \n",
       "\n",
       "   Sales Amount  Profit Margin   Date/Text  Day  \n",
       "0         36000       0.245860  15/01/2020   15  \n",
       "1         88000       0.050950  13/01/2020   13  \n",
       "2        204000       0.357727  13/01/2020   13  \n",
       "3         50000       0.112817  13/01/2020   13  \n",
       "4         47000       0.177313  13/01/2020   13  "
      ]
     },
     "execution_count": 10,
     "metadata": {},
     "output_type": "execute_result"
    }
   ],
   "source": [
    "df = pd.read_excel(\"Data.xlsx\",sheet_name=\"Sales\", header=1)\n",
    "df.head()"
   ]
  },
  {
   "cell_type": "code",
   "execution_count": 11,
   "id": "f952a36b-2751-42f8-b927-494d02b16dce",
   "metadata": {},
   "outputs": [
    {
     "name": "stdout",
     "output_type": "stream",
     "text": [
      "<class 'pandas.core.frame.DataFrame'>\n",
      "RangeIndex: 200 entries, 0 to 199\n",
      "Data columns (total 10 columns):\n",
      " #   Column         Non-Null Count  Dtype         \n",
      "---  ------         --------------  -----         \n",
      " 0   Date           200 non-null    datetime64[ns]\n",
      " 1   Channel        200 non-null    object        \n",
      " 2   Customer       200 non-null    object        \n",
      " 3   Category       57 non-null     object        \n",
      " 4   Product        200 non-null    object        \n",
      " 5   Sales PCS      200 non-null    int64         \n",
      " 6   Sales Amount   200 non-null    int64         \n",
      " 7   Profit Margin  200 non-null    float64       \n",
      " 8   Date/Text      200 non-null    object        \n",
      " 9   Day            200 non-null    int64         \n",
      "dtypes: datetime64[ns](1), float64(1), int64(3), object(5)\n",
      "memory usage: 15.8+ KB\n"
     ]
    }
   ],
   "source": [
    "# Get data info\n",
    "df.info()"
   ]
  },
  {
   "cell_type": "code",
   "execution_count": 12,
   "id": "a7295096-ac66-49f1-94d5-f146548fa9a5",
   "metadata": {},
   "outputs": [
    {
     "data": {
      "text/plain": [
       "Index(['Date', 'Channel', 'Customer', 'Category', 'Product', 'Sales PCS',\n",
       "       'Sales Amount', 'Profit Margin', 'Date/Text', 'Day'],\n",
       "      dtype='object')"
      ]
     },
     "execution_count": 12,
     "metadata": {},
     "output_type": "execute_result"
    }
   ],
   "source": [
    "df.columns"
   ]
  },
  {
   "cell_type": "code",
   "execution_count": 13,
   "id": "a99f36c3-9f4c-4417-b8d2-99b4e3cd8410",
   "metadata": {},
   "outputs": [],
   "source": [
    "df.index = df.Date"
   ]
  },
  {
   "cell_type": "code",
   "execution_count": 14,
   "id": "5efdd1fb-1c70-4256-aceb-0ae9d810c8d6",
   "metadata": {},
   "outputs": [
    {
     "data": {
      "text/html": [
       "<div>\n",
       "<style scoped>\n",
       "    .dataframe tbody tr th:only-of-type {\n",
       "        vertical-align: middle;\n",
       "    }\n",
       "\n",
       "    .dataframe tbody tr th {\n",
       "        vertical-align: top;\n",
       "    }\n",
       "\n",
       "    .dataframe thead th {\n",
       "        text-align: right;\n",
       "    }\n",
       "</style>\n",
       "<table border=\"1\" class=\"dataframe\">\n",
       "  <thead>\n",
       "    <tr style=\"text-align: right;\">\n",
       "      <th></th>\n",
       "      <th>Date</th>\n",
       "      <th>Channel</th>\n",
       "      <th>Customer</th>\n",
       "      <th>Category</th>\n",
       "      <th>Product</th>\n",
       "      <th>Sales PCS</th>\n",
       "      <th>Sales Amount</th>\n",
       "      <th>Profit Margin</th>\n",
       "      <th>Date/Text</th>\n",
       "      <th>Day</th>\n",
       "    </tr>\n",
       "    <tr>\n",
       "      <th>Date</th>\n",
       "      <th></th>\n",
       "      <th></th>\n",
       "      <th></th>\n",
       "      <th></th>\n",
       "      <th></th>\n",
       "      <th></th>\n",
       "      <th></th>\n",
       "      <th></th>\n",
       "      <th></th>\n",
       "      <th></th>\n",
       "    </tr>\n",
       "  </thead>\n",
       "  <tbody>\n",
       "    <tr>\n",
       "      <th>2020-01-15</th>\n",
       "      <td>2020-01-15</td>\n",
       "      <td>Big Dealer</td>\n",
       "      <td>DISCOVERY</td>\n",
       "      <td>FAN</td>\n",
       "      <td>CFA00</td>\n",
       "      <td>50</td>\n",
       "      <td>36000</td>\n",
       "      <td>0.245860</td>\n",
       "      <td>15/01/2020</td>\n",
       "      <td>15</td>\n",
       "    </tr>\n",
       "    <tr>\n",
       "      <th>2020-01-13</th>\n",
       "      <td>2020-01-13</td>\n",
       "      <td>Big Dealer</td>\n",
       "      <td>CLD</td>\n",
       "      <td>Emergency lights</td>\n",
       "      <td>EL009</td>\n",
       "      <td>100</td>\n",
       "      <td>88000</td>\n",
       "      <td>0.050950</td>\n",
       "      <td>13/01/2020</td>\n",
       "      <td>13</td>\n",
       "    </tr>\n",
       "    <tr>\n",
       "      <th>2020-01-13</th>\n",
       "      <td>2020-01-13</td>\n",
       "      <td>Big Dealer</td>\n",
       "      <td>PHIL</td>\n",
       "      <td>FAN</td>\n",
       "      <td>CF087</td>\n",
       "      <td>50</td>\n",
       "      <td>204000</td>\n",
       "      <td>0.357727</td>\n",
       "      <td>13/01/2020</td>\n",
       "      <td>13</td>\n",
       "    </tr>\n",
       "    <tr>\n",
       "      <th>2020-01-13</th>\n",
       "      <td>2020-01-13</td>\n",
       "      <td>Big Dealer</td>\n",
       "      <td>CLD</td>\n",
       "      <td>flashlight</td>\n",
       "      <td>TH258</td>\n",
       "      <td>20</td>\n",
       "      <td>50000</td>\n",
       "      <td>0.112817</td>\n",
       "      <td>13/01/2020</td>\n",
       "      <td>13</td>\n",
       "    </tr>\n",
       "    <tr>\n",
       "      <th>2020-01-13</th>\n",
       "      <td>2020-01-13</td>\n",
       "      <td>Big Dealer</td>\n",
       "      <td>CLD</td>\n",
       "      <td>Camping lanterns</td>\n",
       "      <td>OL090</td>\n",
       "      <td>500</td>\n",
       "      <td>47000</td>\n",
       "      <td>0.177313</td>\n",
       "      <td>13/01/2020</td>\n",
       "      <td>13</td>\n",
       "    </tr>\n",
       "  </tbody>\n",
       "</table>\n",
       "</div>"
      ],
      "text/plain": [
       "                 Date     Channel   Customer          Category Product  \\\n",
       "Date                                                                     \n",
       "2020-01-15 2020-01-15  Big Dealer  DISCOVERY               FAN   CFA00   \n",
       "2020-01-13 2020-01-13  Big Dealer        CLD  Emergency lights   EL009   \n",
       "2020-01-13 2020-01-13  Big Dealer       PHIL               FAN   CF087   \n",
       "2020-01-13 2020-01-13  Big Dealer        CLD        flashlight   TH258   \n",
       "2020-01-13 2020-01-13  Big Dealer        CLD  Camping lanterns   OL090   \n",
       "\n",
       "            Sales PCS  Sales Amount  Profit Margin   Date/Text  Day  \n",
       "Date                                                                 \n",
       "2020-01-15         50         36000       0.245860  15/01/2020   15  \n",
       "2020-01-13        100         88000       0.050950  13/01/2020   13  \n",
       "2020-01-13         50        204000       0.357727  13/01/2020   13  \n",
       "2020-01-13         20         50000       0.112817  13/01/2020   13  \n",
       "2020-01-13        500         47000       0.177313  13/01/2020   13  "
      ]
     },
     "execution_count": 14,
     "metadata": {},
     "output_type": "execute_result"
    }
   ],
   "source": [
    "df.head()"
   ]
  },
  {
   "cell_type": "code",
   "execution_count": 15,
   "id": "1e26486b-d604-4790-aed8-f698bdfc5a7a",
   "metadata": {},
   "outputs": [],
   "source": [
    "df.drop(columns=\"Date\", inplace=True)"
   ]
  },
  {
   "cell_type": "code",
   "execution_count": 16,
   "id": "868219c4-3392-409e-9b6d-19be15f82055",
   "metadata": {},
   "outputs": [
    {
     "data": {
      "text/html": [
       "<div>\n",
       "<style scoped>\n",
       "    .dataframe tbody tr th:only-of-type {\n",
       "        vertical-align: middle;\n",
       "    }\n",
       "\n",
       "    .dataframe tbody tr th {\n",
       "        vertical-align: top;\n",
       "    }\n",
       "\n",
       "    .dataframe thead th {\n",
       "        text-align: right;\n",
       "    }\n",
       "</style>\n",
       "<table border=\"1\" class=\"dataframe\">\n",
       "  <thead>\n",
       "    <tr style=\"text-align: right;\">\n",
       "      <th></th>\n",
       "      <th>Channel</th>\n",
       "      <th>Customer</th>\n",
       "      <th>Category</th>\n",
       "      <th>Product</th>\n",
       "      <th>Sales PCS</th>\n",
       "      <th>Sales Amount</th>\n",
       "      <th>Profit Margin</th>\n",
       "      <th>Date/Text</th>\n",
       "      <th>Day</th>\n",
       "    </tr>\n",
       "    <tr>\n",
       "      <th>Date</th>\n",
       "      <th></th>\n",
       "      <th></th>\n",
       "      <th></th>\n",
       "      <th></th>\n",
       "      <th></th>\n",
       "      <th></th>\n",
       "      <th></th>\n",
       "      <th></th>\n",
       "      <th></th>\n",
       "    </tr>\n",
       "  </thead>\n",
       "  <tbody>\n",
       "    <tr>\n",
       "      <th>2020-01-22</th>\n",
       "      <td>Big Dealer</td>\n",
       "      <td>ALHAJI</td>\n",
       "      <td>NaN</td>\n",
       "      <td>EL112</td>\n",
       "      <td>10</td>\n",
       "      <td>560000</td>\n",
       "      <td>-0.019344</td>\n",
       "      <td>22/01/2020</td>\n",
       "      <td>22</td>\n",
       "    </tr>\n",
       "    <tr>\n",
       "      <th>2020-01-13</th>\n",
       "      <td>Big Dealer</td>\n",
       "      <td>CLD</td>\n",
       "      <td>NaN</td>\n",
       "      <td>EL117</td>\n",
       "      <td>10</td>\n",
       "      <td>42500</td>\n",
       "      <td>-0.015670</td>\n",
       "      <td>13/01/2020</td>\n",
       "      <td>13</td>\n",
       "    </tr>\n",
       "    <tr>\n",
       "      <th>2020-01-13</th>\n",
       "      <td>Big Dealer</td>\n",
       "      <td>MAI</td>\n",
       "      <td>NaN</td>\n",
       "      <td>EL117</td>\n",
       "      <td>5</td>\n",
       "      <td>42500</td>\n",
       "      <td>-0.015670</td>\n",
       "      <td>13/01/2020</td>\n",
       "      <td>13</td>\n",
       "    </tr>\n",
       "    <tr>\n",
       "      <th>2020-01-22</th>\n",
       "      <td>Big Dealer</td>\n",
       "      <td>MAI</td>\n",
       "      <td>NaN</td>\n",
       "      <td>EL117</td>\n",
       "      <td>10</td>\n",
       "      <td>42500</td>\n",
       "      <td>-0.015670</td>\n",
       "      <td>22/01/2020</td>\n",
       "      <td>22</td>\n",
       "    </tr>\n",
       "    <tr>\n",
       "      <th>2020-01-13</th>\n",
       "      <td>Big Dealer</td>\n",
       "      <td>Akeem</td>\n",
       "      <td>NaN</td>\n",
       "      <td>EL117</td>\n",
       "      <td>2</td>\n",
       "      <td>212500</td>\n",
       "      <td>-0.015670</td>\n",
       "      <td>13/01/2020</td>\n",
       "      <td>13</td>\n",
       "    </tr>\n",
       "  </tbody>\n",
       "</table>\n",
       "</div>"
      ],
      "text/plain": [
       "               Channel Customer Category Product  Sales PCS  Sales Amount  \\\n",
       "Date                                                                        \n",
       "2020-01-22  Big Dealer   ALHAJI      NaN   EL112         10        560000   \n",
       "2020-01-13  Big Dealer      CLD      NaN   EL117         10         42500   \n",
       "2020-01-13  Big Dealer      MAI      NaN   EL117          5         42500   \n",
       "2020-01-22  Big Dealer      MAI      NaN   EL117         10         42500   \n",
       "2020-01-13  Big Dealer    Akeem      NaN   EL117          2        212500   \n",
       "\n",
       "            Profit Margin   Date/Text  Day  \n",
       "Date                                        \n",
       "2020-01-22      -0.019344  22/01/2020   22  \n",
       "2020-01-13      -0.015670  13/01/2020   13  \n",
       "2020-01-13      -0.015670  13/01/2020   13  \n",
       "2020-01-22      -0.015670  22/01/2020   22  \n",
       "2020-01-13      -0.015670  13/01/2020   13  "
      ]
     },
     "execution_count": 16,
     "metadata": {},
     "output_type": "execute_result"
    }
   ],
   "source": [
    "df.tail()"
   ]
  },
  {
   "cell_type": "code",
   "execution_count": 17,
   "id": "001f2441-5817-4407-8bab-14e521a54a1e",
   "metadata": {},
   "outputs": [
    {
     "data": {
      "text/plain": [
       "<matplotlib.legend.Legend at 0x23fe0882300>"
      ]
     },
     "execution_count": 17,
     "metadata": {},
     "output_type": "execute_result"
    },
    {
     "data": {
      "image/png": "[encoded data removed]",
      "text/plain": [
       "<Figure size 640x480 with 1 Axes>"
      ]
     },
     "metadata": {},
     "output_type": "display_data"
    }
   ],
   "source": [
    "df['Profit Margin'].plot()\n",
    "plt.xlabel = \"Date\"\n",
    "plt.ylabel = \"Profit Margin\"\n",
    "plt.title = \"Data Vs Profit Margin\"\n",
    "plt.legend()"
   ]
  },
  {
   "cell_type": "code",
   "execution_count": 18,
   "id": "63abc86b-61b9-453f-952f-1649f54e01a3",
   "metadata": {},
   "outputs": [
    {
     "data": {
      "text/plain": [
       "array(['DISCOVERY', 'CLD', 'PHIL', 'IKS', 'GON', 'DESTINY', 'SUMADNEE',\n",
       "       'Akeem', 'MAI', 'HUBMART', 'SHOP', 'Sunday', 'Eddy', 'Bickson',\n",
       "       'Alex', 'B', 'PRICE', 'CHIDI', 'MALLMART', 'HALIL', 'DE', 'eshop',\n",
       "       'ASJAY', 'ALHAJI', 'LATLEK', 'ALLWELL', 'PAYBEST', 'FIRST',\n",
       "       'ADEBOWALE', 'A'], dtype=object)"
      ]
     },
     "execution_count": 18,
     "metadata": {},
     "output_type": "execute_result"
    }
   ],
   "source": [
    "df['Customer'].unique()"
   ]
  },
  {
   "cell_type": "code",
   "execution_count": 19,
   "id": "520b485d-cf36-4b46-930c-185c466e8078",
   "metadata": {},
   "outputs": [
    {
     "data": {
      "text/plain": [
       "Customer\n",
       "Akeem       22\n",
       "HALIL       16\n",
       "MAI         14\n",
       "CHIDI       14\n",
       "eshop       13\n",
       "DE          13\n",
       "CLD         12\n",
       "SUMADNEE    10\n",
       "DESTINY      9\n",
       "MALLMART     9\n",
       "Name: count, dtype: int64"
      ]
     },
     "execution_count": 19,
     "metadata": {},
     "output_type": "execute_result"
    }
   ],
   "source": [
    "df['Customer'].value_counts()[:10]"
   ]
  },
  {
   "cell_type": "code",
   "execution_count": 20,
   "id": "55eedde0-3509-4981-98b6-93888121e833",
   "metadata": {},
   "outputs": [
    {
     "data": {
      "text/plain": [
       "Channel\n",
       "Big Dealer      152\n",
       "Supermarket      35\n",
       "E-commercial     13\n",
       "Name: count, dtype: int64"
      ]
     },
     "execution_count": 20,
     "metadata": {},
     "output_type": "execute_result"
    }
   ],
   "source": [
    "df['Channel'].value_counts()"
   ]
  },
  {
   "cell_type": "code",
   "execution_count": 21,
   "id": "58430a36-5344-47ca-a27d-9a8bdade88b8",
   "metadata": {},
   "outputs": [
    {
     "data": {
      "image/png": "[encoded data removed]",
      "text/plain": [
       "<Figure size 640x480 with 1 Axes>"
      ]
     },
     "metadata": {},
     "output_type": "display_data"
    }
   ],
   "source": [
    "plt.bar(df['Channel'], df['Sales Amount'])\n",
    "plt.xlabel = \"Channel\"\n",
    "plt.ylabel = \"Sales Amount\"\n",
    "plt.title = \"Channel Vs Sales Amount\""
   ]
  },
  {
   "cell_type": "code",
   "execution_count": 22,
   "id": "a1343231-9451-4c78-9450-499e941b5e67",
   "metadata": {},
   "outputs": [
    {
     "data": {
      "text/plain": [
       "<Axes: xlabel='Channel', ylabel='count'>"
      ]
     },
     "execution_count": 22,
     "metadata": {},
     "output_type": "execute_result"
    },
    {
     "data": {
      "image/png": "[encoded data removed]",
      "text/plain": [
       "<Figure size 640x480 with 1 Axes>"
      ]
     },
     "metadata": {},
     "output_type": "display_data"
    }
   ],
   "source": [
    "sb.countplot(data=df, x= \"Channel\")"
   ]
  },
  {
   "cell_type": "code",
   "execution_count": 34,
   "id": "a5d9fd0f-f649-4646-9485-f312f33c7f75",
   "metadata": {},
   "outputs": [
    {
     "data": {
      "application/vnd.plotly.v1+json": {
       "config": {
        "plotlyServerURL": "https://plot.ly"
       },
       "data": [
        {
         "hovertemplate": "Sales Amount=%{x}<br>Profit Margin=%{y}<extra></extra>",
         "legendgroup": "",
         "marker": {
          "color": "#636efa",
          "symbol": "circle"
         },
         "mode": "markers",
         "name": "",
         "scene": "scene",
         "showlegend": false,
         "type": "scatter3d",
         "x": [
          36000,
          88000,
          204000,
          50000,
          47000,
          74000,
          89600,
          40000,
          25500,
          57600,
          55000,
          174000,
          41500,
          58800,
          52500,
          211200,
          46800,
          235200,
          52000,
          36000,
          450000,
          58000,
          148800,
          162000,
          1020000,
          90000,
          28000,
          36000,
          29000,
          600000,
          98000,
          467500,
          1924000,
          1850000,
          900000,
          725000,
          825000,
          1800000,
          576000,
          490000,
          570000,
          1176000,
          108000,
          112000,
          70000,
          80000,
          92000,
          58800,
          206000,
          51000,
          290000,
          55800,
          57500,
          55000,
          1530000,
          1070000,
          320000,
          -15550,
          10850,
          3300000,
          1080000,
          180000,
          300000,
          294000,
          290000,
          29000,
          72000,
          51000,
          1450000,
          742500,
          460800,
          424000,
          1764000,
          425000,
          20000,
          750000,
          576000,
          1000000,
          520000,
          600000,
          234000,
          1176000,
          424000,
          980000,
          290000,
          630000,
          425000,
          425000,
          576000,
          252000,
          45000,
          42000,
          29000,
          10500,
          9900,
          6300,
          8500,
          9000,
          11000,
          56000,
          36000,
          2080000,
          2000000,
          120000,
          580000,
          825000,
          1152000,
          980000,
          588000,
          850000,
          850000,
          3780000,
          900000,
          234000,
          720000,
          848000,
          9000,
          151200,
          16000,
          18000,
          16000,
          11500,
          19800,
          39200,
          52600,
          29000,
          38000,
          17500,
          21000,
          25500,
          26500,
          528000,
          562500,
          561600,
          486500,
          42000,
          51600,
          53200,
          207000,
          950000,
          450000,
          12814000,
          720000,
          467500,
          2800000,
          100800,
          112000,
          248000,
          374500,
          550000,
          212500,
          850000,
          21200,
          49600,
          47950,
          810000,
          470000,
          330000,
          36000,
          255000,
          720000,
          96000,
          84000,
          570000,
          449280,
          41500,
          58800,
          60000,
          60000,
          25500,
          2310000,
          540000,
          255000,
          49000,
          160000,
          47000,
          117600,
          140000,
          76500,
          60000,
          58800,
          72000,
          1650000,
          82500,
          70000,
          45000,
          -37050,
          50000,
          50000,
          150000,
          250000,
          500000,
          56000,
          560000,
          560000,
          560000,
          42500,
          42500,
          42500,
          212500
         ],
         "y": [
          0.2458603377632377,
          0.050950141892985655,
          0.3577273171595573,
          0.11281718553593023,
          0.17731268751287124,
          0.11509393797640724,
          0.44964323345314583,
          0.3666501637697478,
          0.12932127452188724,
          0.0910818961764698,
          0.18140906616982336,
          0.1955334076659117,
          0.22202364295959987,
          0.36500913147659486,
          0.23917664586542517,
          0.21317524463881424,
          0.44217288352941103,
          0.36500913147659486,
          0.29257663092963754,
          0.3040687994117593,
          0.18305456769106282,
          0.1646306129817414,
          0.3081070824124203,
          0.16782941398822984,
          0.14301194112085203,
          0.1830545676910629,
          0.24777139079613694,
          0.3040687994117593,
          0.3339250502918862,
          0.472888229864947,
          0.08328284238360235,
          0.1412048473378982,
          0.13840226440071446,
          0.11467217994326893,
          0.47288822986494705,
          0.3339250502918862,
          0.02007333358186469,
          0.3040687994117593,
          0.09108189617646972,
          0.139896390104099,
          0.14015044829721046,
          0.3650091314765948,
          0.16782941398822984,
          0.23869782934156247,
          0.04917389982227002,
          0.3555684053743785,
          0.1472542676761946,
          0.36500913147659486,
          0.20883345854564744,
          0.12932127452188724,
          0.333925050291886,
          0.14594046364445828,
          0.021856709657115607,
          0.18140906616982336,
          0.1430119411208519,
          0.17826014483807762,
          0.14812214335876023,
          0.34098872410514924,
          0.3283213974126088,
          0.036689202105383706,
          0.16782941398822984,
          0.3040687994117593,
          0.472888229864947,
          0.3650091314765948,
          0.333925050291886,
          0.3339250502918862,
          0.3040687994117593,
          0.14301194112085175,
          0.3339250502918862,
          0.06660439896640707,
          0.0910818961764698,
          0.27666875120976947,
          0.36500913147659486,
          0.0965613611008827,
          0.16709143501762808,
          0.11467217994326902,
          0.09108189617646972,
          0.11467217994326902,
          0.1384022644007144,
          0.472888229864947,
          0.4421728835294111,
          0.3650091314765948,
          0.27666875120976947,
          0.139896390104099,
          0.333925050291886,
          0.09811621768802802,
          0.0965613611008827,
          0.14120484733789834,
          0.09108189617646972,
          0.01115363913710716,
          0.3484445344959097,
          0.36311294451137294,
          0.28232640674482457,
          0.23795193292436662,
          0.499752391064172,
          0.3950604104658557,
          0.35772731715955736,
          0.4125454730758856,
          0.39933568736947805,
          0.04917389982226973,
          0.3040687994117593,
          0.1384022644007144,
          0.11467217994326902,
          0.472888229864947,
          0.333925050291886,
          0.02007333358186469,
          0.09108189617646972,
          0.139896390104099,
          0.3650091314765948,
          0.14120484733789834,
          0.0965613611008827,
          0.09811621768802795,
          0.19742429278083154,
          0.4421728835294111,
          0.3040687994117593,
          0.27666875120976947,
          0.2458603377632377,
          0.0111536391371072,
          0.540832715498388,
          0.4125454730758856,
          0.46210213954412144,
          0.36619937524296603,
          0.3316394781248526,
          0.3422960854793344,
          0.37950781915695914,
          0.28232640674482457,
          0.27977249050421493,
          0.4294419663517555,
          0.45829327743697235,
          0.8935203114012104,
          0.8898911084628726,
          0.3246457157556216,
          0.1546907386164755,
          0.07578157534008233,
          0.205408969397069,
          0.08470132252613889,
          0.21613902922354303,
          0.1347650120176745,
          0.1826925750239621,
          0.12526326453462977,
          0.19742429278083154,
          0.059147478106702484,
          0.3040687994117593,
          0.12932127452188713,
          0.04917389982226975,
          0.011153639137107096,
          0.23869782934156247,
          0.30810708241242046,
          0.053252328435402056,
          0.020073333581864923,
          0.0965613611008827,
          0.14120484733789834,
          0.2741510389697153,
          0.3081070824124203,
          0.010736018377858744,
          0.16782941398822984,
          0.19749035674127474,
          0.03668920210538351,
          0.3040687994117593,
          0.14120484733789854,
          0.3040687994117593,
          0.18695801684044067,
          0.08470132252613889,
          0.1252632645346298,
          0.07578157534008227,
          0.22202364295959987,
          0.36500913147659486,
          0.472888229864947,
          0.18712928152941102,
          0.12932127452188724,
          0.03668920210538369,
          0.16782941398822984,
          0.12932127452188713,
          0.139896390104099,
          0.14812214335876023,
          0.19749035674127446,
          0.3422960854793346,
          0.23869782934156256,
          0.12932127452188713,
          0.472888229864947,
          0.36500913147659486,
          0.3040687994117593,
          0.036689202105383706,
          0.03668920210538351,
          0.04917389982227002,
          0.44175243502958367,
          0.36868076809453354,
          -0.038205362254396594,
          -0.038205362254396594,
          -0.03820536225439648,
          -0.038205362254396406,
          -0.038205362254396406,
          -0.01934355704849756,
          -0.019343557048497384,
          -0.019343557048497384,
          -0.019343557048497384,
          -0.015670088687356958,
          -0.015670088687356958,
          -0.015670088687356958,
          -0.015670088687356844
         ]
        }
       ],
       "layout": {
        "autosize": true,
        "legend": {
         "tracegroupgap": 0
        },
        "margin": {
         "t": 60
        },
        "scene": {
         "aspectmode": "auto",
         "aspectratio": {
          "x": 1,
          "y": 1,
          "z": 1
         },
         "domain": {
          "x": [
           0,
           1
          ],
          "y": [
           0,
           1
          ]
         },
         "xaxis": {
          "title": {
           "text": "Sales Amount"
          },
          "type": "linear"
         },
         "yaxis": {
          "title": {
           "text": "Profit Margin"
          },
          "type": "linear"
         }
        },
        "template": {
         "data": {
          "bar": [
           {
            "error_x": {
             "color": "#2a3f5f"
            },
            "error_y": {
             "color": "#2a3f5f"
            },
            "marker": {
             "line": {
              "color": "#E5ECF6",
              "width": 0.5
             },
             "pattern": {
              "fillmode": "overlay",
              "size": 10,
              "solidity": 0.2
             }
            },
            "type": "bar"
           }
          ],
          "barpolar": [
           {
            "marker": {
             "line": {
              "color": "#E5ECF6",
              "width": 0.5
             },
             "pattern": {
              "fillmode": "overlay",
              "size": 10,
              "solidity": 0.2
             }
            },
            "type": "barpolar"
           }
          ],
          "carpet": [
           {
            "aaxis": {
             "endlinecolor": "#2a3f5f",
             "gridcolor": "white",
             "linecolor": "white",
             "minorgridcolor": "white",
             "startlinecolor": "#2a3f5f"
            },
            "baxis": {
             "endlinecolor": "#2a3f5f",
             "gridcolor": "white",
             "linecolor": "white",
             "minorgridcolor": "white",
             "startlinecolor": "#2a3f5f"
            },
            "type": "carpet"
           }
          ],
          "choropleth": [
           {
            "colorbar": {
             "outlinewidth": 0,
             "ticks": ""
            },
            "type": "choropleth"
           }
          ],
          "contour": [
           {
            "colorbar": {
             "outlinewidth": 0,
             "ticks": ""
            },
            "colorscale": [
             [
              0,
              "#0d0887"
             ],
             [
              0.1111111111111111,
              "#46039f"
             ],
             [
              0.2222222222222222,
              "#7201a8"
             ],
             [
              0.3333333333333333,
              "#9c179e"
             ],
             [
              0.4444444444444444,
              "#bd3786"
             ],
             [
              0.5555555555555556,
              "#d8576b"
             ],
             [
              0.6666666666666666,
              "#ed7953"
             ],
             [
              0.7777777777777778,
              "#fb9f3a"
             ],
             [
              0.8888888888888888,
              "#fdca26"
             ],
             [
              1,
              "#f0f921"
             ]
            ],
            "type": "contour"
           }
          ],
          "contourcarpet": [
           {
            "colorbar": {
             "outlinewidth": 0,
             "ticks": ""
            },
            "type": "contourcarpet"
           }
          ],
          "heatmap": [
           {
            "colorbar": {
             "outlinewidth": 0,
             "ticks": ""
            },
            "colorscale": [
             [
              0,
              "#0d0887"
             ],
             [
              0.1111111111111111,
              "#46039f"
             ],
             [
              0.2222222222222222,
              "#7201a8"
             ],
             [
              0.3333333333333333,
              "#9c179e"
             ],
             [
              0.4444444444444444,
              "#bd3786"
             ],
             [
              0.5555555555555556,
              "#d8576b"
             ],
             [
              0.6666666666666666,
              "#ed7953"
             ],
             [
              0.7777777777777778,
              "#fb9f3a"
             ],
             [
              0.8888888888888888,
              "#fdca26"
             ],
             [
              1,
              "#f0f921"
             ]
            ],
            "type": "heatmap"
           }
          ],
          "heatmapgl": [
           {
            "colorbar": {
             "outlinewidth": 0,
             "ticks": ""
            },
            "colorscale": [
             [
              0,
              "#0d0887"
             ],
             [
              0.1111111111111111,
              "#46039f"
             ],
             [
              0.2222222222222222,
              "#7201a8"
             ],
             [
              0.3333333333333333,
              "#9c179e"
             ],
             [
              0.4444444444444444,
              "#bd3786"
             ],
             [
              0.5555555555555556,
              "#d8576b"
             ],
             [
              0.6666666666666666,
              "#ed7953"
             ],
             [
              0.7777777777777778,
              "#fb9f3a"
             ],
             [
              0.8888888888888888,
              "#fdca26"
             ],
             [
              1,
              "#f0f921"
             ]
            ],
            "type": "heatmapgl"
           }
          ],
          "histogram": [
           {
            "marker": {
             "pattern": {
              "fillmode": "overlay",
              "size": 10,
              "solidity": 0.2
             }
            },
            "type": "histogram"
           }
          ],
          "histogram2d": [
           {
            "colorbar": {
             "outlinewidth": 0,
             "ticks": ""
            },
            "colorscale": [
             [
              0,
              "#0d0887"
             ],
             [
              0.1111111111111111,
              "#46039f"
             ],
             [
              0.2222222222222222,
              "#7201a8"
             ],
             [
              0.3333333333333333,
              "#9c179e"
             ],
             [
              0.4444444444444444,
              "#bd3786"
             ],
             [
              0.5555555555555556,
              "#d8576b"
             ],
             [
              0.6666666666666666,
              "#ed7953"
             ],
             [
              0.7777777777777778,
              "#fb9f3a"
             ],
             [
              0.8888888888888888,
              "#fdca26"
             ],
             [
              1,
              "#f0f921"
             ]
            ],
            "type": "histogram2d"
           }
          ],
          "histogram2dcontour": [
           {
            "colorbar": {
             "outlinewidth": 0,
             "ticks": ""
            },
            "colorscale": [
             [
              0,
              "#0d0887"
             ],
             [
              0.1111111111111111,
              "#46039f"
             ],
             [
              0.2222222222222222,
              "#7201a8"
             ],
             [
              0.3333333333333333,
              "#9c179e"
             ],
             [
              0.4444444444444444,
              "#bd3786"
             ],
             [
              0.5555555555555556,
              "#d8576b"
             ],
             [
              0.6666666666666666,
              "#ed7953"
             ],
             [
              0.7777777777777778,
              "#fb9f3a"
             ],
             [
              0.8888888888888888,
              "#fdca26"
             ],
             [
              1,
              "#f0f921"
             ]
            ],
            "type": "histogram2dcontour"
           }
          ],
          "mesh3d": [
           {
            "colorbar": {
             "outlinewidth": 0,
             "ticks": ""
            },
            "type": "mesh3d"
           }
          ],
          "parcoords": [
           {
            "line": {
             "colorbar": {
              "outlinewidth": 0,
              "ticks": ""
             }
            },
            "type": "parcoords"
           }
          ],
          "pie": [
           {
            "automargin": true,
            "type": "pie"
           }
          ],
          "scatter": [
           {
            "fillpattern": {
             "fillmode": "overlay",
             "size": 10,
             "solidity": 0.2
            },
            "type": "scatter"
           }
          ],
          "scatter3d": [
           {
            "line": {
             "colorbar": {
              "outlinewidth": 0,
              "ticks": ""
             }
            },
            "marker": {
             "colorbar": {
              "outlinewidth": 0,
              "ticks": ""
             }
            },
            "type": "scatter3d"
           }
          ],
          "scattercarpet": [
           {
            "marker": {
             "colorbar": {
              "outlinewidth": 0,
              "ticks": ""
             }
            },
            "type": "scattercarpet"
           }
          ],
          "scattergeo": [
           {
            "marker": {
             "colorbar": {
              "outlinewidth": 0,
              "ticks": ""
             }
            },
            "type": "scattergeo"
           }
          ],
          "scattergl": [
           {
            "marker": {
             "colorbar": {
              "outlinewidth": 0,
              "ticks": ""
             }
            },
            "type": "scattergl"
           }
          ],
          "scattermapbox": [
           {
            "marker": {
             "colorbar": {
              "outlinewidth": 0,
              "ticks": ""
             }
            },
            "type": "scattermapbox"
           }
          ],
          "scatterpolar": [
           {
            "marker": {
             "colorbar": {
              "outlinewidth": 0,
              "ticks": ""
             }
            },
            "type": "scatterpolar"
           }
          ],
          "scatterpolargl": [
           {
            "marker": {
             "colorbar": {
              "outlinewidth": 0,
              "ticks": ""
             }
            },
            "type": "scatterpolargl"
           }
          ],
          "scatterternary": [
           {
            "marker": {
             "colorbar": {
              "outlinewidth": 0,
              "ticks": ""
             }
            },
            "type": "scatterternary"
           }
          ],
          "surface": [
           {
            "colorbar": {
             "outlinewidth": 0,
             "ticks": ""
            },
            "colorscale": [
             [
              0,
              "#0d0887"
             ],
             [
              0.1111111111111111,
              "#46039f"
             ],
             [
              0.2222222222222222,
              "#7201a8"
             ],
             [
              0.3333333333333333,
              "#9c179e"
             ],
             [
              0.4444444444444444,
              "#bd3786"
             ],
             [
              0.5555555555555556,
              "#d8576b"
             ],
             [
              0.6666666666666666,
              "#ed7953"
             ],
             [
              0.7777777777777778,
              "#fb9f3a"
             ],
             [
              0.8888888888888888,
              "#fdca26"
             ],
             [
              1,
              "#f0f921"
             ]
            ],
            "type": "surface"
           }
          ],
          "table": [
           {
            "cells": {
             "fill": {
              "color": "#EBF0F8"
             },
             "line": {
              "color": "white"
             }
            },
            "header": {
             "fill": {
              "color": "#C8D4E3"
             },
             "line": {
              "color": "white"
             }
            },
            "type": "table"
           }
          ]
         },
         "layout": {
          "annotationdefaults": {
           "arrowcolor": "#2a3f5f",
           "arrowhead": 0,
           "arrowwidth": 1
          },
          "autotypenumbers": "strict",
          "coloraxis": {
           "colorbar": {
            "outlinewidth": 0,
            "ticks": ""
           }
          },
          "colorscale": {
           "diverging": [
            [
             0,
             "#8e0152"
            ],
            [
             0.1,
             "#c51b7d"
            ],
            [
             0.2,
             "#de77ae"
            ],
            [
             0.3,
             "#f1b6da"
            ],
            [
             0.4,
             "#fde0ef"
            ],
            [
             0.5,
             "#f7f7f7"
            ],
            [
             0.6,
             "#e6f5d0"
            ],
            [
             0.7,
             "#b8e186"
            ],
            [
             0.8,
             "#7fbc41"
            ],
            [
             0.9,
             "#4d9221"
            ],
            [
             1,
             "#276419"
            ]
           ],
           "sequential": [
            [
             0,
             "#0d0887"
            ],
            [
             0.1111111111111111,
             "#46039f"
            ],
            [
             0.2222222222222222,
             "#7201a8"
            ],
            [
             0.3333333333333333,
             "#9c179e"
            ],
            [
             0.4444444444444444,
             "#bd3786"
            ],
            [
             0.5555555555555556,
             "#d8576b"
            ],
            [
             0.6666666666666666,
             "#ed7953"
            ],
            [
             0.7777777777777778,
             "#fb9f3a"
            ],
            [
             0.8888888888888888,
             "#fdca26"
            ],
            [
             1,
             "#f0f921"
            ]
           ],
           "sequentialminus": [
            [
             0,
             "#0d0887"
            ],
            [
             0.1111111111111111,
             "#46039f"
            ],
            [
             0.2222222222222222,
             "#7201a8"
            ],
            [
             0.3333333333333333,
             "#9c179e"
            ],
            [
             0.4444444444444444,
             "#bd3786"
            ],
            [
             0.5555555555555556,
             "#d8576b"
            ],
            [
             0.6666666666666666,
             "#ed7953"
            ],
            [
             0.7777777777777778,
             "#fb9f3a"
            ],
            [
             0.8888888888888888,
             "#fdca26"
            ],
            [
             1,
             "#f0f921"
            ]
           ]
          },
          "colorway": [
           "#636efa",
           "#EF553B",
           "#00cc96",
           "#ab63fa",
           "#FFA15A",
           "#19d3f3",
           "#FF6692",
           "#B6E880",
           "#FF97FF",
           "#FECB52"
          ],
          "font": {
           "color": "#2a3f5f"
          },
          "geo": {
           "bgcolor": "white",
           "lakecolor": "white",
           "landcolor": "#E5ECF6",
           "showlakes": true,
           "showland": true,
           "subunitcolor": "white"
          },
          "hoverlabel": {
           "align": "left"
          },
          "hovermode": "closest",
          "mapbox": {
           "style": "light"
          },
          "paper_bgcolor": "white",
          "plot_bgcolor": "#E5ECF6",
          "polar": {
           "angularaxis": {
            "gridcolor": "white",
            "linecolor": "white",
            "ticks": ""
           },
           "bgcolor": "#E5ECF6",
           "radialaxis": {
            "gridcolor": "white",
            "linecolor": "white",
            "ticks": ""
           }
          },
          "scene": {
           "xaxis": {
            "backgroundcolor": "#E5ECF6",
            "gridcolor": "white",
            "gridwidth": 2,
            "linecolor": "white",
            "showbackground": true,
            "ticks": "",
            "zerolinecolor": "white"
           },
           "yaxis": {
            "backgroundcolor": "#E5ECF6",
            "gridcolor": "white",
            "gridwidth": 2,
            "linecolor": "white",
            "showbackground": true,
            "ticks": "",
            "zerolinecolor": "white"
           },
           "zaxis": {
            "backgroundcolor": "#E5ECF6",
            "gridcolor": "white",
            "gridwidth": 2,
            "linecolor": "white",
            "showbackground": true,
            "ticks": "",
            "zerolinecolor": "white"
           }
          },
          "shapedefaults": {
           "line": {
            "color": "#2a3f5f"
           }
          },
          "ternary": {
           "aaxis": {
            "gridcolor": "white",
            "linecolor": "white",
            "ticks": ""
           },
           "baxis": {
            "gridcolor": "white",
            "linecolor": "white",
            "ticks": ""
           },
           "bgcolor": "#E5ECF6",
           "caxis": {
            "gridcolor": "white",
            "linecolor": "white",
            "ticks": ""
           }
          },
          "title": {
           "x": 0.05
          },
          "xaxis": {
           "automargin": true,
           "gridcolor": "white",
           "linecolor": "white",
           "ticks": "",
           "title": {
            "standoff": 15
           },
           "zerolinecolor": "white",
           "zerolinewidth": 2
          },
          "yaxis": {
           "automargin": true,
           "gridcolor": "white",
           "linecolor": "white",
           "ticks": "",
           "title": {
            "standoff": 15
           },
           "zerolinecolor": "white",
           "zerolinewidth": 2
          }
         }
        }
       }
      },
      "image/png": "[encoded data removed]",
      "text/html": [
       "<div>                            <div id=\"e0ad562c-2659-42e2-b945-6c79d731ed67\" class=\"plotly-graph-div\" style=\"height:525px; width:100%;\"></div>            <script type=\"text/javascript\">                require([\"plotly\"], function(Plotly) {                    window.PLOTLYENV=window.PLOTLYENV || {};                                    if (document.getElementById(\"e0ad562c-2659-42e2-b945-6c79d731ed67\")) {                    Plotly.newPlot(                        \"e0ad562c-2659-42e2-b945-6c79d731ed67\",                        [{\"hovertemplate\":\"Sales Amount=%{x}\\u003cbr\\u003eProfit Margin=%{y}\\u003cextra\\u003e\\u003c\\u002fextra\\u003e\",\"legendgroup\":\"\",\"marker\":{\"color\":\"#636efa\",\"symbol\":\"circle\"},\"mode\":\"markers\",\"name\":\"\",\"scene\":\"scene\",\"showlegend\":false,\"x\":[36000,88000,204000,50000,47000,74000,89600,40000,25500,57600,55000,174000,41500,58800,52500,211200,46800,235200,52000,36000,450000,58000,148800,162000,1020000,90000,28000,36000,29000,600000,98000,467500,1924000,1850000,900000,725000,825000,1800000,576000,490000,570000,1176000,108000,112000,70000,80000,92000,58800,206000,51000,290000,55800,57500,55000,1530000,1070000,320000,-15550,10850,3300000,1080000,180000,300000,294000,290000,29000,72000,51000,1450000,742500,460800,424000,1764000,425000,20000,750000,576000,1000000,520000,600000,234000,1176000,424000,980000,290000,630000,425000,425000,576000,252000,45000,42000,29000,10500,9900,6300,8500,9000,11000,56000,36000,2080000,2000000,120000,580000,825000,1152000,980000,588000,850000,850000,3780000,900000,234000,720000,848000,9000,151200,16000,18000,16000,11500,19800,39200,52600,29000,38000,17500,21000,25500,26500,528000,562500,561600,486500,42000,51600,53200,207000,950000,450000,12814000,720000,467500,2800000,100800,112000,248000,374500,550000,212500,850000,21200,49600,47950,810000,470000,330000,36000,255000,720000,96000,84000,570000,449280,41500,58800,60000,60000,25500,2310000,540000,255000,49000,160000,47000,117600,140000,76500,60000,58800,72000,1650000,82500,70000,45000,-37050,50000,50000,150000,250000,500000,56000,560000,560000,560000,42500,42500,42500,212500],\"y\":[0.2458603377632377,0.050950141892985655,0.3577273171595573,0.11281718553593023,0.17731268751287124,0.11509393797640724,0.44964323345314583,0.3666501637697478,0.12932127452188724,0.0910818961764698,0.18140906616982336,0.1955334076659117,0.22202364295959987,0.36500913147659486,0.23917664586542517,0.21317524463881424,0.44217288352941103,0.36500913147659486,0.29257663092963754,0.3040687994117593,0.18305456769106282,0.1646306129817414,0.3081070824124203,0.16782941398822984,0.14301194112085203,0.1830545676910629,0.24777139079613694,0.3040687994117593,0.3339250502918862,0.472888229864947,0.08328284238360235,0.1412048473378982,0.13840226440071446,0.11467217994326893,0.47288822986494705,0.3339250502918862,0.02007333358186469,0.3040687994117593,0.09108189617646972,0.139896390104099,0.14015044829721046,0.3650091314765948,0.16782941398822984,0.23869782934156247,0.04917389982227002,0.3555684053743785,0.1472542676761946,0.36500913147659486,0.20883345854564744,0.12932127452188724,0.333925050291886,0.14594046364445828,0.021856709657115607,0.18140906616982336,0.1430119411208519,0.17826014483807762,0.14812214335876023,0.34098872410514924,0.3283213974126088,0.036689202105383706,0.16782941398822984,0.3040687994117593,0.472888229864947,0.3650091314765948,0.333925050291886,0.3339250502918862,0.3040687994117593,0.14301194112085175,0.3339250502918862,0.06660439896640707,0.0910818961764698,0.27666875120976947,0.36500913147659486,0.0965613611008827,0.16709143501762808,0.11467217994326902,0.09108189617646972,0.11467217994326902,0.1384022644007144,0.472888229864947,0.4421728835294111,0.3650091314765948,0.27666875120976947,0.139896390104099,0.333925050291886,0.09811621768802802,0.0965613611008827,0.14120484733789834,0.09108189617646972,0.01115363913710716,0.3484445344959097,0.36311294451137294,0.28232640674482457,0.23795193292436662,0.499752391064172,0.3950604104658557,0.35772731715955736,0.4125454730758856,0.39933568736947805,0.04917389982226973,0.3040687994117593,0.1384022644007144,0.11467217994326902,0.472888229864947,0.333925050291886,0.02007333358186469,0.09108189617646972,0.139896390104099,0.3650091314765948,0.14120484733789834,0.0965613611008827,0.09811621768802795,0.19742429278083154,0.4421728835294111,0.3040687994117593,0.27666875120976947,0.2458603377632377,0.0111536391371072,0.540832715498388,0.4125454730758856,0.46210213954412144,0.36619937524296603,0.3316394781248526,0.3422960854793344,0.37950781915695914,0.28232640674482457,0.27977249050421493,0.4294419663517555,0.45829327743697235,0.8935203114012104,0.8898911084628726,0.3246457157556216,0.1546907386164755,0.07578157534008233,0.205408969397069,0.08470132252613889,0.21613902922354303,0.1347650120176745,0.1826925750239621,0.12526326453462977,0.19742429278083154,0.059147478106702484,0.3040687994117593,0.12932127452188713,0.04917389982226975,0.011153639137107096,0.23869782934156247,0.30810708241242046,0.053252328435402056,0.020073333581864923,0.0965613611008827,0.14120484733789834,0.2741510389697153,0.3081070824124203,0.010736018377858744,0.16782941398822984,0.19749035674127474,0.03668920210538351,0.3040687994117593,0.14120484733789854,0.3040687994117593,0.18695801684044067,0.08470132252613889,0.1252632645346298,0.07578157534008227,0.22202364295959987,0.36500913147659486,0.472888229864947,0.18712928152941102,0.12932127452188724,0.03668920210538369,0.16782941398822984,0.12932127452188713,0.139896390104099,0.14812214335876023,0.19749035674127446,0.3422960854793346,0.23869782934156256,0.12932127452188713,0.472888229864947,0.36500913147659486,0.3040687994117593,0.036689202105383706,0.03668920210538351,0.04917389982227002,0.44175243502958367,0.36868076809453354,-0.038205362254396594,-0.038205362254396594,-0.03820536225439648,-0.038205362254396406,-0.038205362254396406,-0.01934355704849756,-0.019343557048497384,-0.019343557048497384,-0.019343557048497384,-0.015670088687356958,-0.015670088687356958,-0.015670088687356958,-0.015670088687356844],\"type\":\"scatter3d\"}],                        {\"template\":{\"data\":{\"histogram2dcontour\":[{\"type\":\"histogram2dcontour\",\"colorbar\":{\"outlinewidth\":0,\"ticks\":\"\"},\"colorscale\":[[0.0,\"#0d0887\"],[0.1111111111111111,\"#46039f\"],[0.2222222222222222,\"#7201a8\"],[0.3333333333333333,\"#9c179e\"],[0.4444444444444444,\"#bd3786\"],[0.5555555555555556,\"#d8576b\"],[0.6666666666666666,\"#ed7953\"],[0.7777777777777778,\"#fb9f3a\"],[0.8888888888888888,\"#fdca26\"],[1.0,\"#f0f921\"]]}],\"choropleth\":[{\"type\":\"choropleth\",\"colorbar\":{\"outlinewidth\":0,\"ticks\":\"\"}}],\"histogram2d\":[{\"type\":\"histogram2d\",\"colorbar\":{\"outlinewidth\":0,\"ticks\":\"\"},\"colorscale\":[[0.0,\"#0d0887\"],[0.1111111111111111,\"#46039f\"],[0.2222222222222222,\"#7201a8\"],[0.3333333333333333,\"#9c179e\"],[0.4444444444444444,\"#bd3786\"],[0.5555555555555556,\"#d8576b\"],[0.6666666666666666,\"#ed7953\"],[0.7777777777777778,\"#fb9f3a\"],[0.8888888888888888,\"#fdca26\"],[1.0,\"#f0f921\"]]}],\"heatmap\":[{\"type\":\"heatmap\",\"colorbar\":{\"outlinewidth\":0,\"ticks\":\"\"},\"colorscale\":[[0.0,\"#0d0887\"],[0.1111111111111111,\"#46039f\"],[0.2222222222222222,\"#7201a8\"],[0.3333333333333333,\"#9c179e\"],[0.4444444444444444,\"#bd3786\"],[0.5555555555555556,\"#d8576b\"],[0.6666666666666666,\"#ed7953\"],[0.7777777777777778,\"#fb9f3a\"],[0.8888888888888888,\"#fdca26\"],[1.0,\"#f0f921\"]]}],\"heatmapgl\":[{\"type\":\"heatmapgl\",\"colorbar\":{\"outlinewidth\":0,\"ticks\":\"\"},\"colorscale\":[[0.0,\"#0d0887\"],[0.1111111111111111,\"#46039f\"],[0.2222222222222222,\"#7201a8\"],[0.3333333333333333,\"#9c179e\"],[0.4444444444444444,\"#bd3786\"],[0.5555555555555556,\"#d8576b\"],[0.6666666666666666,\"#ed7953\"],[0.7777777777777778,\"#fb9f3a\"],[0.8888888888888888,\"#fdca26\"],[1.0,\"#f0f921\"]]}],\"contourcarpet\":[{\"type\":\"contourcarpet\",\"colorbar\":{\"outlinewidth\":0,\"ticks\":\"\"}}],\"contour\":[{\"type\":\"contour\",\"colorbar\":{\"outlinewidth\":0,\"ticks\":\"\"},\"colorscale\":[[0.0,\"#0d0887\"],[0.1111111111111111,\"#46039f\"],[0.2222222222222222,\"#7201a8\"],[0.3333333333333333,\"#9c179e\"],[0.4444444444444444,\"#bd3786\"],[0.5555555555555556,\"#d8576b\"],[0.6666666666666666,\"#ed7953\"],[0.7777777777777778,\"#fb9f3a\"],[0.8888888888888888,\"#fdca26\"],[1.0,\"#f0f921\"]]}],\"surface\":[{\"type\":\"surface\",\"colorbar\":{\"outlinewidth\":0,\"ticks\":\"\"},\"colorscale\":[[0.0,\"#0d0887\"],[0.1111111111111111,\"#46039f\"],[0.2222222222222222,\"#7201a8\"],[0.3333333333333333,\"#9c179e\"],[0.4444444444444444,\"#bd3786\"],[0.5555555555555556,\"#d8576b\"],[0.6666666666666666,\"#ed7953\"],[0.7777777777777778,\"#fb9f3a\"],[0.8888888888888888,\"#fdca26\"],[1.0,\"#f0f921\"]]}],\"mesh3d\":[{\"type\":\"mesh3d\",\"colorbar\":{\"outlinewidth\":0,\"ticks\":\"\"}}],\"scatter\":[{\"fillpattern\":{\"fillmode\":\"overlay\",\"size\":10,\"solidity\":0.2},\"type\":\"scatter\"}],\"parcoords\":[{\"type\":\"parcoords\",\"line\":{\"colorbar\":{\"outlinewidth\":0,\"ticks\":\"\"}}}],\"scatterpolargl\":[{\"type\":\"scatterpolargl\",\"marker\":{\"colorbar\":{\"outlinewidth\":0,\"ticks\":\"\"}}}],\"bar\":[{\"error_x\":{\"color\":\"#2a3f5f\"},\"error_y\":{\"color\":\"#2a3f5f\"},\"marker\":{\"line\":{\"color\":\"#E5ECF6\",\"width\":0.5},\"pattern\":{\"fillmode\":\"overlay\",\"size\":10,\"solidity\":0.2}},\"type\":\"bar\"}],\"scattergeo\":[{\"type\":\"scattergeo\",\"marker\":{\"colorbar\":{\"outlinewidth\":0,\"ticks\":\"\"}}}],\"scatterpolar\":[{\"type\":\"scatterpolar\",\"marker\":{\"colorbar\":{\"outlinewidth\":0,\"ticks\":\"\"}}}],\"histogram\":[{\"marker\":{\"pattern\":{\"fillmode\":\"overlay\",\"size\":10,\"solidity\":0.2}},\"type\":\"histogram\"}],\"scattergl\":[{\"type\":\"scattergl\",\"marker\":{\"colorbar\":{\"outlinewidth\":0,\"ticks\":\"\"}}}],\"scatter3d\":[{\"type\":\"scatter3d\",\"line\":{\"colorbar\":{\"outlinewidth\":0,\"ticks\":\"\"}},\"marker\":{\"colorbar\":{\"outlinewidth\":0,\"ticks\":\"\"}}}],\"scattermapbox\":[{\"type\":\"scattermapbox\",\"marker\":{\"colorbar\":{\"outlinewidth\":0,\"ticks\":\"\"}}}],\"scatterternary\":[{\"type\":\"scatterternary\",\"marker\":{\"colorbar\":{\"outlinewidth\":0,\"ticks\":\"\"}}}],\"scattercarpet\":[{\"type\":\"scattercarpet\",\"marker\":{\"colorbar\":{\"outlinewidth\":0,\"ticks\":\"\"}}}],\"carpet\":[{\"aaxis\":{\"endlinecolor\":\"#2a3f5f\",\"gridcolor\":\"white\",\"linecolor\":\"white\",\"minorgridcolor\":\"white\",\"startlinecolor\":\"#2a3f5f\"},\"baxis\":{\"endlinecolor\":\"#2a3f5f\",\"gridcolor\":\"white\",\"linecolor\":\"white\",\"minorgridcolor\":\"white\",\"startlinecolor\":\"#2a3f5f\"},\"type\":\"carpet\"}],\"table\":[{\"cells\":{\"fill\":{\"color\":\"#EBF0F8\"},\"line\":{\"color\":\"white\"}},\"header\":{\"fill\":{\"color\":\"#C8D4E3\"},\"line\":{\"color\":\"white\"}},\"type\":\"table\"}],\"barpolar\":[{\"marker\":{\"line\":{\"color\":\"#E5ECF6\",\"width\":0.5},\"pattern\":{\"fillmode\":\"overlay\",\"size\":10,\"solidity\":0.2}},\"type\":\"barpolar\"}],\"pie\":[{\"automargin\":true,\"type\":\"pie\"}]},\"layout\":{\"autotypenumbers\":\"strict\",\"colorway\":[\"#636efa\",\"#EF553B\",\"#00cc96\",\"#ab63fa\",\"#FFA15A\",\"#19d3f3\",\"#FF6692\",\"#B6E880\",\"#FF97FF\",\"#FECB52\"],\"font\":{\"color\":\"#2a3f5f\"},\"hovermode\":\"closest\",\"hoverlabel\":{\"align\":\"left\"},\"paper_bgcolor\":\"white\",\"plot_bgcolor\":\"#E5ECF6\",\"polar\":{\"bgcolor\":\"#E5ECF6\",\"angularaxis\":{\"gridcolor\":\"white\",\"linecolor\":\"white\",\"ticks\":\"\"},\"radialaxis\":{\"gridcolor\":\"white\",\"linecolor\":\"white\",\"ticks\":\"\"}},\"ternary\":{\"bgcolor\":\"#E5ECF6\",\"aaxis\":{\"gridcolor\":\"white\",\"linecolor\":\"white\",\"ticks\":\"\"},\"baxis\":{\"gridcolor\":\"white\",\"linecolor\":\"white\",\"ticks\":\"\"},\"caxis\":{\"gridcolor\":\"white\",\"linecolor\":\"white\",\"ticks\":\"\"}},\"coloraxis\":{\"colorbar\":{\"outlinewidth\":0,\"ticks\":\"\"}},\"colorscale\":{\"sequential\":[[0.0,\"#0d0887\"],[0.1111111111111111,\"#46039f\"],[0.2222222222222222,\"#7201a8\"],[0.3333333333333333,\"#9c179e\"],[0.4444444444444444,\"#bd3786\"],[0.5555555555555556,\"#d8576b\"],[0.6666666666666666,\"#ed7953\"],[0.7777777777777778,\"#fb9f3a\"],[0.8888888888888888,\"#fdca26\"],[1.0,\"#f0f921\"]],\"sequentialminus\":[[0.0,\"#0d0887\"],[0.1111111111111111,\"#46039f\"],[0.2222222222222222,\"#7201a8\"],[0.3333333333333333,\"#9c179e\"],[0.4444444444444444,\"#bd3786\"],[0.5555555555555556,\"#d8576b\"],[0.6666666666666666,\"#ed7953\"],[0.7777777777777778,\"#fb9f3a\"],[0.8888888888888888,\"#fdca26\"],[1.0,\"#f0f921\"]],\"diverging\":[[0,\"#8e0152\"],[0.1,\"#c51b7d\"],[0.2,\"#de77ae\"],[0.3,\"#f1b6da\"],[0.4,\"#fde0ef\"],[0.5,\"#f7f7f7\"],[0.6,\"#e6f5d0\"],[0.7,\"#b8e186\"],[0.8,\"#7fbc41\"],[0.9,\"#4d9221\"],[1,\"#276419\"]]},\"xaxis\":{\"gridcolor\":\"white\",\"linecolor\":\"white\",\"ticks\":\"\",\"title\":{\"standoff\":15},\"zerolinecolor\":\"white\",\"automargin\":true,\"zerolinewidth\":2},\"yaxis\":{\"gridcolor\":\"white\",\"linecolor\":\"white\",\"ticks\":\"\",\"title\":{\"standoff\":15},\"zerolinecolor\":\"white\",\"automargin\":true,\"zerolinewidth\":2},\"scene\":{\"xaxis\":{\"backgroundcolor\":\"#E5ECF6\",\"gridcolor\":\"white\",\"linecolor\":\"white\",\"showbackground\":true,\"ticks\":\"\",\"zerolinecolor\":\"white\",\"gridwidth\":2},\"yaxis\":{\"backgroundcolor\":\"#E5ECF6\",\"gridcolor\":\"white\",\"linecolor\":\"white\",\"showbackground\":true,\"ticks\":\"\",\"zerolinecolor\":\"white\",\"gridwidth\":2},\"zaxis\":{\"backgroundcolor\":\"#E5ECF6\",\"gridcolor\":\"white\",\"linecolor\":\"white\",\"showbackground\":true,\"ticks\":\"\",\"zerolinecolor\":\"white\",\"gridwidth\":2}},\"shapedefaults\":{\"line\":{\"color\":\"#2a3f5f\"}},\"annotationdefaults\":{\"arrowcolor\":\"#2a3f5f\",\"arrowhead\":0,\"arrowwidth\":1},\"geo\":{\"bgcolor\":\"white\",\"landcolor\":\"#E5ECF6\",\"subunitcolor\":\"white\",\"showland\":true,\"showlakes\":true,\"lakecolor\":\"white\"},\"title\":{\"x\":0.05},\"mapbox\":{\"style\":\"light\"}}},\"scene\":{\"domain\":{\"x\":[0.0,1.0],\"y\":[0.0,1.0]},\"xaxis\":{\"title\":{\"text\":\"Sales Amount\"}},\"yaxis\":{\"title\":{\"text\":\"Profit Margin\"}}},\"legend\":{\"tracegroupgap\":0},\"margin\":{\"t\":60}},                        {\"responsive\": true}                    ).then(function(){\n",
       "                            \n",
       "var gd = document.getElementById('e0ad562c-2659-42e2-b945-6c79d731ed67');\n",
       "var x = new MutationObserver(function (mutations, observer) {{\n",
       "        var display = window.getComputedStyle(gd).display;\n",
       "        if (!display || display === 'none') {{\n",
       "            console.log([gd, 'removed!']);\n",
       "            Plotly.purge(gd);\n",
       "            observer.disconnect();\n",
       "        }}\n",
       "}});\n",
       "\n",
       "// Listen for the removal of the full notebook cells\n",
       "var notebookContainer = gd.closest('#notebook-container');\n",
       "if (notebookContainer) {{\n",
       "    x.observe(notebookContainer, {childList: true});\n",
       "}}\n",
       "\n",
       "// Listen for the clearing of the current output cell\n",
       "var outputEl = gd.closest('.output');\n",
       "if (outputEl) {{\n",
       "    x.observe(outputEl, {childList: true});\n",
       "}}\n",
       "\n",
       "                        })                };                });            </script>        </div>"
      ]
     },
     "metadata": {},
     "output_type": "display_data"
    }
   ],
   "source": [
    "fig = px.scatter_3d(data_frame=df, x=\"Sales Amount\", y=\"Profit Margin\")\n",
    "fig.show()"
   ]
  },
  {
   "cell_type": "code",
   "execution_count": 24,
   "id": "8d4da8c2-759c-44b8-b207-fd019bce60ae",
   "metadata": {},
   "outputs": [
    {
     "data": {
      "text/plain": [
       "<Axes: xlabel='Sales Amount'>"
      ]
     },
     "execution_count": 24,
     "metadata": {},
     "output_type": "execute_result"
    },
    {
     "data": {
      "image/png": "[encoded data removed]",
      "text/plain": [
       "<Figure size 640x480 with 1 Axes>"
      ]
     },
     "metadata": {},
     "output_type": "display_data"
    }
   ],
   "source": [
    "sb.boxenplot(data=df, x=\"Sales Amount\", hue=\"Channel\")"
   ]
  },
  {
   "cell_type": "code",
   "execution_count": 25,
   "id": "bb04413c-6238-46e2-a72a-6a954f9e0b7d",
   "metadata": {},
   "outputs": [
    {
     "data": {
      "text/html": [
       "<div>\n",
       "<style scoped>\n",
       "    .dataframe tbody tr th:only-of-type {\n",
       "        vertical-align: middle;\n",
       "    }\n",
       "\n",
       "    .dataframe tbody tr th {\n",
       "        vertical-align: top;\n",
       "    }\n",
       "\n",
       "    .dataframe thead th {\n",
       "        text-align: right;\n",
       "    }\n",
       "</style>\n",
       "<table border=\"1\" class=\"dataframe\">\n",
       "  <thead>\n",
       "    <tr style=\"text-align: right;\">\n",
       "      <th></th>\n",
       "      <th>count</th>\n",
       "      <th>mean</th>\n",
       "      <th>std</th>\n",
       "      <th>min</th>\n",
       "      <th>25%</th>\n",
       "      <th>50%</th>\n",
       "      <th>75%</th>\n",
       "      <th>max</th>\n",
       "    </tr>\n",
       "  </thead>\n",
       "  <tbody>\n",
       "    <tr>\n",
       "      <th>Sales PCS</th>\n",
       "      <td>200.0</td>\n",
       "      <td>329.630000</td>\n",
       "      <td>9.436826e+02</td>\n",
       "      <td>2.000000</td>\n",
       "      <td>4.000000</td>\n",
       "      <td>10.000000</td>\n",
       "      <td>100.000000</td>\n",
       "      <td>6.000000e+03</td>\n",
       "    </tr>\n",
       "    <tr>\n",
       "      <th>Sales Amount</th>\n",
       "      <td>200.0</td>\n",
       "      <td>464747.900000</td>\n",
       "      <td>1.052896e+06</td>\n",
       "      <td>-37050.000000</td>\n",
       "      <td>49450.000000</td>\n",
       "      <td>150600.000000</td>\n",
       "      <td>561825.000000</td>\n",
       "      <td>1.281400e+07</td>\n",
       "    </tr>\n",
       "    <tr>\n",
       "      <th>Profit Margin</th>\n",
       "      <td>200.0</td>\n",
       "      <td>0.216126</td>\n",
       "      <td>1.566820e-01</td>\n",
       "      <td>-0.038205</td>\n",
       "      <td>0.098116</td>\n",
       "      <td>0.183055</td>\n",
       "      <td>0.333925</td>\n",
       "      <td>8.935203e-01</td>\n",
       "    </tr>\n",
       "    <tr>\n",
       "      <th>Day</th>\n",
       "      <td>200.0</td>\n",
       "      <td>16.605000</td>\n",
       "      <td>4.242519e+00</td>\n",
       "      <td>13.000000</td>\n",
       "      <td>13.000000</td>\n",
       "      <td>15.000000</td>\n",
       "      <td>18.000000</td>\n",
       "      <td>2.900000e+01</td>\n",
       "    </tr>\n",
       "  </tbody>\n",
       "</table>\n",
       "</div>"
      ],
      "text/plain": [
       "               count           mean           std           min           25%  \\\n",
       "Sales PCS      200.0     329.630000  9.436826e+02      2.000000      4.000000   \n",
       "Sales Amount   200.0  464747.900000  1.052896e+06 -37050.000000  49450.000000   \n",
       "Profit Margin  200.0       0.216126  1.566820e-01     -0.038205      0.098116   \n",
       "Day            200.0      16.605000  4.242519e+00     13.000000     13.000000   \n",
       "\n",
       "                         50%            75%           max  \n",
       "Sales PCS          10.000000     100.000000  6.000000e+03  \n",
       "Sales Amount   150600.000000  561825.000000  1.281400e+07  \n",
       "Profit Margin       0.183055       0.333925  8.935203e-01  \n",
       "Day                15.000000      18.000000  2.900000e+01  "
      ]
     },
     "execution_count": 25,
     "metadata": {},
     "output_type": "execute_result"
    }
   ],
   "source": [
    "df.describe().T"
   ]
  },
  {
   "cell_type": "code",
   "execution_count": 26,
   "id": "242df96f-a337-46ab-896f-f3aa6ffe5cff",
   "metadata": {},
   "outputs": [
    {
     "data": {
      "text/plain": [
       "(1800, (200, 9))"
      ]
     },
     "execution_count": 26,
     "metadata": {},
     "output_type": "execute_result"
    }
   ],
   "source": [
    "df.size, df.shape"
   ]
  },
  {
   "cell_type": "code",
   "execution_count": 27,
   "id": "f88d1eba-d6b0-40de-9de0-8b6fc9ae3756",
   "metadata": {},
   "outputs": [],
   "source": [
    "df1 = df[df['Sales Amount'].between(-37050, 561825)]"
   ]
  },
  {
   "cell_type": "code",
   "execution_count": 28,
   "id": "f5a8b2cf-d50b-47d3-a4a1-cc69c0c52fbe",
   "metadata": {},
   "outputs": [
    {
     "data": {
      "text/plain": [
       "((150, 9), 1350)"
      ]
     },
     "execution_count": 28,
     "metadata": {},
     "output_type": "execute_result"
    }
   ],
   "source": [
    "df1.shape, df1.size"
   ]
  },
  {
   "cell_type": "code",
   "execution_count": 29,
   "id": "64ff40a0-27e7-4cdf-9e42-9694ba1bdf69",
   "metadata": {},
   "outputs": [
    {
     "data": {
      "text/plain": [
       "<Axes: xlabel='Sales Amount'>"
      ]
     },
     "execution_count": 29,
     "metadata": {},
     "output_type": "execute_result"
    },
    {
     "data": {
      "image/png": "[encoded data removed]",
      "text/plain": [
       "<Figure size 640x480 with 1 Axes>"
      ]
     },
     "metadata": {},
     "output_type": "display_data"
    }
   ],
   "source": [
    "sb.boxenplot(data=df1, x= \"Sales Amount\", hue=\"Channel\")"
   ]
  },
  {
   "cell_type": "code",
   "execution_count": 30,
   "id": "849580cb-4447-49e6-b600-104abe7375d7",
   "metadata": {},
   "outputs": [
    {
     "data": {
      "text/plain": [
       "<Axes: xlabel='Sales Amount'>"
      ]
     },
     "execution_count": 30,
     "metadata": {},
     "output_type": "execute_result"
    },
    {
     "data": {
      "image/png": "[encoded data removed]",
      "text/plain": [
       "<Figure size 640x480 with 1 Axes>"
      ]
     },
     "metadata": {},
     "output_type": "display_data"
    }
   ],
   "source": [
    "sb.boxplot(data=df1, hue=\"Channel\", x=\"Sales Amount\")"
   ]
  },
  {
   "cell_type": "code",
   "execution_count": 31,
   "id": "9c3797c3-d315-4ac8-8434-d1d5c51fb3e8",
   "metadata": {},
   "outputs": [
    {
     "data": {
      "image/png": "[encoded data removed]",
      "text/plain": [
       "<Figure size 640x480 with 1 Axes>"
      ]
     },
     "metadata": {},
     "output_type": "display_data"
    }
   ],
   "source": [
    "sb.boxplot(data=df1, hue=\"Channel\", x=\"Sales Amount\")\n",
    "plt.savefig(\"fig1\")"
   ]
  },
  {
   "cell_type": "code",
   "execution_count": 32,
   "id": "62a138b6-2fca-49b5-80ed-7fede58fc0d1",
   "metadata": {},
   "outputs": [
    {
     "name": "stdout",
     "output_type": "stream",
     "text": [
      "Requirement already satisfied: Pyodbc in c:\\users\\dell\\miniconda3\\lib\\site-packages (5.1.0)\n"
     ]
    }
   ],
   "source": [
    "! pip install Pyodbc"
   ]
  },
  {
   "cell_type": "code",
   "execution_count": null,
   "id": "a43eae7e-8785-4d64-9197-5b04f00d4991",
   "metadata": {},
   "outputs": [],
   "source": []
  },
  {
   "cell_type": "code",
   "execution_count": null,
   "id": "d2017ff5-6922-4339-82ee-ba155287bf02",
   "metadata": {},
   "outputs": [],
   "source": []
  }
 ],
 "metadata": {
  "kernelspec": {
   "display_name": "Python 3 (ipykernel)",
   "language": "python",
   "name": "python3"
  },
  "language_info": {
   "codemirror_mode": {
    "name": "ipython",
    "version": 3
   },
   "file_extension": ".py",
   "mimetype": "text/x-python",
   "name": "python",
   "nbconvert_exporter": "python",
   "pygments_lexer": "ipython3",
   "version": "3.12.4"
  }
 },
 "nbformat": 4,
 "nbformat_minor": 5
}
